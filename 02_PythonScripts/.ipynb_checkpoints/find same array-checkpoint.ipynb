{
 "cells": [
  {
   "cell_type": "code",
   "execution_count": 2,
   "metadata": {},
   "outputs": [
    {
     "name": "stdout",
     "output_type": "stream",
     "text": [
      "True\n",
      "False\n"
     ]
    }
   ],
   "source": [
    "import operator\n",
    "\n",
    "a=[1,-1,0]\n",
    "b=[1,-1,0]\n",
    "c=[-1,1,0]\n",
    "\n",
    "print(operator.eq(a, b))\n",
    "print(operator.eq(a, c))"
   ]
  },
  {
   "cell_type": "code",
   "execution_count": 17,
   "metadata": {},
   "outputs": [
    {
     "data": {
      "text/plain": [
       "[4, 4, 3, 4]"
      ]
     },
     "execution_count": 17,
     "metadata": {},
     "output_type": "execute_result"
    }
   ],
   "source": [
    "'''\n",
    "arr_len = []\n",
    "for item in arr_list:\n",
    "    arr_len.append(len(item))\n",
    "\n",
    "arr_len\n",
    "\n",
    "'''\n"
   ]
  },
  {
   "cell_type": "code",
   "execution_count": 53,
   "metadata": {},
   "outputs": [
    {
     "name": "stdout",
     "output_type": "stream",
     "text": [
      "重复的数组是：[2, 3, 5, 1]\n",
      "重复的数组索引分别是：3, 1\n"
     ]
    }
   ],
   "source": [
    "# arr_list是输入的100个数组的二维数组\n",
    "arr_list = [[1,2,3,4], [2,3,5,1], [3,4,5], [2,3,5,1], [4,6,2,1], [9,6,7]]\n",
    "# 创建set集合，循环将这100个数组存入到arr_set中，因为set集合的无序不重复特性，如果找到重复的数组，跳出循环，标记下标位置\n",
    "arr_set = set()\n",
    "i = 0\n",
    "for i in range(0, len(arr_list)):\n",
    "    item_i = tuple(arr_list[i])\n",
    "    if item_i not in arr_set:\n",
    "        arr_set.add(item_i)\n",
    "    else:\n",
    "        break\n",
    "\n",
    "# 利用已知的重复数据arr_list[i]，遍历arr_set找到重复数据的索引\n",
    "j = 0\n",
    "iter_set = iter(arr_set)\n",
    "while True:\n",
    "    tmp = next(iter_set)\n",
    "    if tmp == tuple(arr_list[i]):\n",
    "        break\n",
    "    j += 1\n",
    "\n",
    "\n",
    "\n",
    "print('重复的数组是：' + str(arr_list[i]))\n",
    "print('重复的数组索引分别是：%d, %d' % (j, i))"
   ]
  },
  {
   "cell_type": "code",
   "execution_count": 45,
   "metadata": {},
   "outputs": [
    {
     "data": {
      "text/plain": [
       "{(1, 2, 3, 4), (2, 3, 5, 1), (3, 4, 5), (4, 6, 2, 1), (9, 6, 7)}"
      ]
     },
     "execution_count": 45,
     "metadata": {},
     "output_type": "execute_result"
    }
   ],
   "source": [
    "arr_set = set()\n",
    "arr_list = [[1,2,3,4], [2,3,5,1], [3,4,5], [2,3,5,1], [4,6,2,1], [9,6,7]]\n",
    "for i in range(0, len(arr_list)):\n",
    "    item_i = tuple(arr_list[i])\n",
    "    arr_set.add(item_i)\n",
    "arr_set"
   ]
  },
  {
   "cell_type": "code",
   "execution_count": 43,
   "metadata": {},
   "outputs": [
    {
     "data": {
      "text/plain": [
       "list"
      ]
     },
     "execution_count": 43,
     "metadata": {},
     "output_type": "execute_result"
    }
   ],
   "source": [
    "type(arr_list)"
   ]
  }
 ],
 "metadata": {
  "kernelspec": {
   "display_name": "Python 3",
   "language": "python",
   "name": "python3"
  },
  "language_info": {
   "codemirror_mode": {
    "name": "ipython",
    "version": 3
   },
   "file_extension": ".py",
   "mimetype": "text/x-python",
   "name": "python",
   "nbconvert_exporter": "python",
   "pygments_lexer": "ipython3",
   "version": "3.7.4"
  }
 },
 "nbformat": 4,
 "nbformat_minor": 2
}
