{
 "cells": [
  {
   "cell_type": "markdown",
   "metadata": {},
   "source": [
    "### 求柱状图中最大的矩形\n",
    "\n",
    "给定 n 个非负整数，用来表示柱状图中各个柱子的高度。每个柱子彼此相邻，且宽度为1，求在该柱状图中，能够勾勒出来的矩形的最大面积。\n",
    "<img src=\"./images/hist1.png\" style=\"width:188px;height:204px;float:left\">\n",
    "<img src=\"./images/hist2.png\" style=\"width:188px;height:204px;float:right\">"
   ]
  },
  {
   "cell_type": "markdown",
   "metadata": {},
   "source": [
    "左图是柱状图的示例，其中每个柱子的宽度为 1，给定的高度为 [2,1,5,6,2,3]\n",
    "\n",
    "右图图中阴影部分为所能勾勒出的最大矩形面积，其面积为10个单位。"
   ]
  },
  {
   "cell_type": "markdown",
   "metadata": {},
   "source": [
    "#### 思路1：采用暴力解法，双层循环枚举\n",
    "- step1：找到第i位置的最大面积；\n",
    "- step2：以i位置为中心，当做最矮高度，向左找到第一个小于height[i]的位置left_i， 向右找到第一个小于height[i]的位置right_i；\n",
    "- step3：矩形面积为：height[i] * (right_i - left_i -1)\n",
    "- step4：遍历求出所有的可能面积，并取出最大的。\n",
    "- 备注：该方法时间复杂度是O(n^2)"
   ]
  },
  {
   "cell_type": "code",
   "execution_count": 8,
   "metadata": {},
   "outputs": [],
   "source": [
    "# 解法1\n",
    "def largest_01(heights):\n",
    "    res = 0\n",
    "    n = len(heights)\n",
    "    for i in range(n):\n",
    "        left_i = i\n",
    "        right_i = i\n",
    "        while  left_i >= 0 and heights[left_i] >= heights[i]:\n",
    "            left_i -= 1\n",
    "        while  right_i < n and heights[right_i] >= heights[i]:\n",
    "            right_i += 1\n",
    "        res = max(res, (right_i - left_i -1) * heights[i])\n",
    "        \n",
    "    return res"
   ]
  },
  {
   "cell_type": "code",
   "execution_count": 6,
   "metadata": {},
   "outputs": [],
   "source": [
    "heights_arr = [2, 1, 5, 6, 2, 3]"
   ]
  },
  {
   "cell_type": "code",
   "execution_count": 9,
   "metadata": {},
   "outputs": [
    {
     "name": "stdout",
     "output_type": "stream",
     "text": [
      "矩形最大的面积是: 10\n"
     ]
    }
   ],
   "source": [
    "lar_area_01 = largest_01(heights_arr)\n",
    "print('矩形最大的面积是: %d' % (lar_area_01))"
   ]
  },
  {
   "cell_type": "code",
   "execution_count": 10,
   "metadata": {},
   "outputs": [],
   "source": [
    "# 解法2 动态规划 如果前一个不大于当前高度 就把前面一个的“左边最小值赋给”当前值的“左边最小值“ 动态规划找左右最小值”\n",
    "def largest_02(heights):\n",
    "    if not heights:\n",
    "        return 0\n",
    "    n = len(heights)\n",
    "    left_i = [0] * n \n",
    "    right_i  = [0] * n\n",
    "    left_i[0] = -1\n",
    "    right_i[-1] = n\n",
    "    for i in range(1, n):\n",
    "        tmp = i - 1\n",
    "        while tmp >= 0 and heights[tmp] >= heights[i]:\n",
    "            tmp = left_i[tmp]\n",
    "        left_i[i] = tmp\n",
    "    for i in range(n-2, -1, -1):\n",
    "        tmp = i + 1\n",
    "        while tmp < n and heights[tmp] >=heights[i]:\n",
    "            tmp = right_i[tmp]\n",
    "        right_i[i] = tmp\n",
    "    \n",
    "    print(left_i)\n",
    "    print(right_i)\n",
    "    \n",
    "    res = 0\n",
    "    for i in range(n):\n",
    "        res = max(res, (right_i[i] - left_i[i] - 1) * heights[i])\n",
    "    return res"
   ]
  },
  {
   "cell_type": "code",
   "execution_count": 11,
   "metadata": {},
   "outputs": [
    {
     "name": "stdout",
     "output_type": "stream",
     "text": [
      "[-1, -1, 1, 2, 1, 4]\n",
      "[1, 6, 4, 4, 6, 6]\n",
      "矩形最大的面积是: 10\n"
     ]
    }
   ],
   "source": [
    "lar_area_02 = largest_02(heights_arr)\n",
    "print('矩形最大的面积是: %d' % (lar_area_02))"
   ]
  },
  {
   "cell_type": "code",
   "execution_count": null,
   "metadata": {},
   "outputs": [],
   "source": []
  },
  {
   "cell_type": "code",
   "execution_count": null,
   "metadata": {},
   "outputs": [],
   "source": []
  }
 ],
 "metadata": {
  "kernelspec": {
   "display_name": "Python 3",
   "language": "python",
   "name": "python3"
  },
  "language_info": {
   "codemirror_mode": {
    "name": "ipython",
    "version": 3
   },
   "file_extension": ".py",
   "mimetype": "text/x-python",
   "name": "python",
   "nbconvert_exporter": "python",
   "pygments_lexer": "ipython3",
   "version": "3.7.4"
  }
 },
 "nbformat": 4,
 "nbformat_minor": 2
}
