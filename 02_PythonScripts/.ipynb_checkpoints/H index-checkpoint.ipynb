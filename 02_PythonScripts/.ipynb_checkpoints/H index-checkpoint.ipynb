{
 "cells": [
  {
   "cell_type": "code",
   "execution_count": 7,
   "metadata": {},
   "outputs": [],
   "source": [
    "def hIndex_01(citations):\n",
    "        index = 0\n",
    "        citations.sort(reverse=True)\n",
    "        for i in citations:\n",
    "            if i > index:\n",
    "                index += 1\n",
    "            else:\n",
    "                break\n",
    "        return index"
   ]
  },
  {
   "cell_type": "code",
   "execution_count": 30,
   "metadata": {},
   "outputs": [],
   "source": [
    "def hIndex_02(citations):\n",
    "    n = len(citations)\n",
    "    bucket = [0] * (n + 1)\n",
    "    for citation in citations:\n",
    "        if citation > n:\n",
    "            bucket[n] += 1\n",
    "        else:\n",
    "            bucket[citation] += 1\n",
    "    \n",
    "    print(bucket)\n",
    "    \n",
    "    cur = 0\n",
    "    for i in range(n, -1, -1):\n",
    "        cur += bucket[i]\n",
    "        if cur >= i:\n",
    "            return i"
   ]
  },
  {
   "cell_type": "code",
   "execution_count": 10,
   "metadata": {},
   "outputs": [
    {
     "name": "stdout",
     "output_type": "stream",
     "text": [
      "3\n"
     ]
    }
   ],
   "source": [
    "citations = [3, 0, 6, 1, 5]\n",
    "h1_index = hIndex_01(citations)\n",
    "print(h1_index)"
   ]
  },
  {
   "cell_type": "code",
   "execution_count": 31,
   "metadata": {},
   "outputs": [
    {
     "name": "stdout",
     "output_type": "stream",
     "text": [
      "[1, 1, 0, 1, 0, 2]\n",
      "3\n"
     ]
    }
   ],
   "source": [
    "h2_index = hIndex_02(citations)\n",
    "print(h2_index)"
   ]
  }
 ],
 "metadata": {
  "kernelspec": {
   "display_name": "Python 3",
   "language": "python",
   "name": "python3"
  },
  "language_info": {
   "codemirror_mode": {
    "name": "ipython",
    "version": 3
   },
   "file_extension": ".py",
   "mimetype": "text/x-python",
   "name": "python",
   "nbconvert_exporter": "python",
   "pygments_lexer": "ipython3",
   "version": "3.7.4"
  }
 },
 "nbformat": 4,
 "nbformat_minor": 2
}
