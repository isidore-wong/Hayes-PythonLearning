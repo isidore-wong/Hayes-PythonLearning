{
 "cells": [
  {
   "cell_type": "code",
   "execution_count": 1,
   "metadata": {},
   "outputs": [],
   "source": [
    "from collections import Counter"
   ]
  },
  {
   "cell_type": "code",
   "execution_count": 31,
   "metadata": {},
   "outputs": [
    {
     "name": "stdout",
     "output_type": "stream",
     "text": [
      "df afsdlfdnDFDdajSDSldf\n"
     ]
    }
   ],
   "source": [
    "str_input = input()\n",
    "count_dict = Counter(str_input)\n",
    "sort_count = sorted(count_dict.items(), key=lambda x:x[1], reverse=True)\n",
    "# sort_dict = sorted(count_dict.values(), reverse=True)"
   ]
  },
  {
   "cell_type": "code",
   "execution_count": 32,
   "metadata": {},
   "outputs": [
    {
     "name": "stdout",
     "output_type": "stream",
     "text": [
      "[('d', 5), ('f', 4), ('D', 3), ('a', 2), ('l', 2), ('S', 2), (' ', 1), ('s', 1), ('n', 1), ('F', 1), ('j', 1)]\n"
     ]
    }
   ],
   "source": [
    "print(sort_count)"
   ]
  },
  {
   "cell_type": "code",
   "execution_count": 43,
   "metadata": {},
   "outputs": [
    {
     "name": "stdout",
     "output_type": "stream",
     "text": [
      "按字母出现次数从大到小排序：\n",
      "d : 5\n",
      "f : 4\n",
      "D : 3\n",
      "a : 2\n",
      "l : 2\n",
      "S : 2\n",
      "  : 1\n",
      "s : 1\n",
      "n : 1\n",
      "F : 1\n",
      "j : 1\n"
     ]
    }
   ],
   "source": [
    "# 利用字典进行排序操作\n",
    "str_in = 'df afsdlfdnDFDdajSDSldf'\n",
    "dict_str = {i : str_in.count(i) for i in str_in}\n",
    "# print(dict_str)\n",
    "print('按字母出现次数从大到小排序：')\n",
    "for i in sorted(dict_str, key=lambda x:(dict_str.get(x)), reverse=True):\n",
    "    print(i, ':', dict_str.get(i))"
   ]
  },
  {
   "cell_type": "code",
   "execution_count": 33,
   "metadata": {},
   "outputs": [
    {
     "name": "stdout",
     "output_type": "stream",
     "text": [
      "['D', 'S', 'S', 'a', 'd', 'd', 'f', 'j', 'l']\n"
     ]
    }
   ],
   "source": [
    "print(sorted('dajSDSldf'))"
   ]
  },
  {
   "cell_type": "code",
   "execution_count": null,
   "metadata": {},
   "outputs": [],
   "source": []
  }
 ],
 "metadata": {
  "kernelspec": {
   "display_name": "Python 3",
   "language": "python",
   "name": "python3"
  },
  "language_info": {
   "codemirror_mode": {
    "name": "ipython",
    "version": 3
   },
   "file_extension": ".py",
   "mimetype": "text/x-python",
   "name": "python",
   "nbconvert_exporter": "python",
   "pygments_lexer": "ipython3",
   "version": "3.7.4"
  }
 },
 "nbformat": 4,
 "nbformat_minor": 2
}
