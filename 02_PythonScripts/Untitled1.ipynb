{
 "cells": [
  {
   "cell_type": "code",
   "execution_count": 2,
   "metadata": {},
   "outputs": [
    {
     "name": "stdout",
     "output_type": "stream",
     "text": [
      "[2, 3, 5, 1]\n",
      "[2, 3, 5, 1]\n"
     ]
    }
   ],
   "source": [
    "def get_index(array):\n",
    "    arr_set = set()\n",
    "    i = 0\n",
    "    for i in range(0, len(array)):\n",
    "        item_i = tuple(array[i])\n",
    "        if item_i not in arr_set:\n",
    "            arr_set.add(item_i)\n",
    "        else:\n",
    "            break\n",
    "    \n",
    "    j = 0\n",
    "    iter_set = iter(arr_set)\n",
    "    while True:\n",
    "        tmp = next(iter_set)\n",
    "        if tmp == tuple(array[i]):\n",
    "            break\n",
    "        j += 1\n",
    "    \n",
    "    return i, j\n",
    "\n",
    "arr_list = [[1,2,3,4], [2,3,5,1], [3,4,5], [2,3,5,1], [4,6,2,1], [9,6,7]]\n",
    "i, j = get_index(arr_list)\n",
    "print(arr_list[i])\n",
    "print(arr_list[j])"
   ]
  }
 ],
 "metadata": {
  "kernelspec": {
   "display_name": "Python 3",
   "language": "python",
   "name": "python3"
  },
  "language_info": {
   "codemirror_mode": {
    "name": "ipython",
    "version": 3
   },
   "file_extension": ".py",
   "mimetype": "text/x-python",
   "name": "python",
   "nbconvert_exporter": "python",
   "pygments_lexer": "ipython3",
   "version": "3.7.4"
  }
 },
 "nbformat": 4,
 "nbformat_minor": 2
}
